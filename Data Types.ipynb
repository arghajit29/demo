{
 "cells": [
  {
   "cell_type": "code",
   "execution_count": 1,
   "id": "b7f77be4",
   "metadata": {},
   "outputs": [
    {
     "name": "stdout",
     "output_type": "stream",
     "text": [
      "Hello World\n"
     ]
    }
   ],
   "source": [
    "print('Hello World')"
   ]
  },
  {
   "cell_type": "code",
   "execution_count": 2,
   "id": "e4fa5bea",
   "metadata": {},
   "outputs": [],
   "source": [
    "first_string = 'Python'\n",
    "second_string = ' is a powerful'\n",
    "third_string = ' Programming Language'"
   ]
  },
  {
   "cell_type": "code",
   "execution_count": 3,
   "id": "543e91fd",
   "metadata": {},
   "outputs": [
    {
     "data": {
      "text/plain": [
       "str"
      ]
     },
     "execution_count": 3,
     "metadata": {},
     "output_type": "execute_result"
    }
   ],
   "source": [
    "type(first_string)"
   ]
  },
  {
   "cell_type": "code",
   "execution_count": 4,
   "id": "f077fb92",
   "metadata": {},
   "outputs": [
    {
     "name": "stdout",
     "output_type": "stream",
     "text": [
      "Python is a powerful Programming Language\n"
     ]
    }
   ],
   "source": [
    "print (first_string + second_string + third_string)"
   ]
  },
  {
   "cell_type": "code",
   "execution_count": 5,
   "id": "c3915e4d",
   "metadata": {},
   "outputs": [
    {
     "name": "stdout",
     "output_type": "stream",
     "text": [
      "Wow! Python is easy\n"
     ]
    }
   ],
   "source": [
    "print('Wow! ' + 'Python is', 'easy')"
   ]
  },
  {
   "cell_type": "code",
   "execution_count": 6,
   "id": "43178f9d",
   "metadata": {},
   "outputs": [],
   "source": [
    "# '+' operator adds two string without spaces, and ',' operator adds two strings with spaces"
   ]
  },
  {
   "cell_type": "code",
   "execution_count": 8,
   "id": "232809e7",
   "metadata": {},
   "outputs": [
    {
     "name": "stdout",
     "output_type": "stream",
     "text": [
      "Day Day Day Day Day \n"
     ]
    }
   ],
   "source": [
    "print('Day ' * 5)"
   ]
  },
  {
   "cell_type": "code",
   "execution_count": 9,
   "id": "cc4d0606",
   "metadata": {},
   "outputs": [
    {
     "name": "stdout",
     "output_type": "stream",
     "text": [
      "==================================================\n"
     ]
    }
   ],
   "source": [
    "print('=' * 50)"
   ]
  },
  {
   "cell_type": "code",
   "execution_count": 10,
   "id": "25ecf8c8",
   "metadata": {},
   "outputs": [
    {
     "name": "stdout",
     "output_type": "stream",
     "text": [
      "Day 2\n"
     ]
    }
   ],
   "source": [
    "# '*' will work while concatenation of the same string value, but '+' will not concatenate and will return error.\n",
    "# However it will work if the data type of the concatenated values are same.\n",
    "# We can convert integer to strings, but not vice-versa\n",
    "\n",
    "print ('Day ' + str(2))"
   ]
  },
  {
   "cell_type": "code",
   "execution_count": null,
   "id": "27b05fc9",
   "metadata": {},
   "outputs": [],
   "source": []
  }
 ],
 "metadata": {
  "kernelspec": {
   "display_name": "Python 3 (ipykernel)",
   "language": "python",
   "name": "python3"
  },
  "language_info": {
   "codemirror_mode": {
    "name": "ipython",
    "version": 3
   },
   "file_extension": ".py",
   "mimetype": "text/x-python",
   "name": "python",
   "nbconvert_exporter": "python",
   "pygments_lexer": "ipython3",
   "version": "3.9.12"
  }
 },
 "nbformat": 4,
 "nbformat_minor": 5
}
